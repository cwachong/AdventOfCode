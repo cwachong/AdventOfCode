{
 "cells": [
  {
   "cell_type": "code",
   "execution_count": 35,
   "metadata": {},
   "outputs": [],
   "source": [
    "import csv\n",
    "import pandas as pd"
   ]
  },
  {
   "cell_type": "code",
   "execution_count": 36,
   "metadata": {},
   "outputs": [],
   "source": [
    "with open('Input.csv', newline='\\n') as f:\n",
    "    reader = csv.reader(f)\n",
    "    data = []\n",
    "    for row in reader:\n",
    "        if len(row) == 0:\n",
    "            data.append(0)\n",
    "        else:\n",
    "            data.append(int(row[0]))"
   ]
  },
  {
   "cell_type": "code",
   "execution_count": 37,
   "metadata": {},
   "outputs": [
    {
     "name": "stdout",
     "output_type": "stream",
     "text": [
      "71023\n"
     ]
    }
   ],
   "source": [
    "max = 0\n",
    "temp = 0\n",
    "for i in range(len(data) -1):\n",
    "    if (data[i] == 0):\n",
    "        if (temp > max):\n",
    "            max = temp\n",
    "        temp = 0 \n",
    "        continue\n",
    "    num = int(data[i])\n",
    "    temp = temp + num\n",
    "\n",
    "print(max)\n"
   ]
  },
  {
   "cell_type": "code",
   "execution_count": null,
   "metadata": {},
   "outputs": [],
   "source": []
  },
  {
   "cell_type": "code",
   "execution_count": null,
   "metadata": {},
   "outputs": [],
   "source": []
  }
 ],
 "metadata": {
  "kernelspec": {
   "display_name": "Python 3",
   "language": "python",
   "name": "python3"
  },
  "language_info": {
   "codemirror_mode": {
    "name": "ipython",
    "version": 3
   },
   "file_extension": ".py",
   "mimetype": "text/x-python",
   "name": "python",
   "nbconvert_exporter": "python",
   "pygments_lexer": "ipython3",
   "version": "3.11.1"
  },
  "orig_nbformat": 4,
  "vscode": {
   "interpreter": {
    "hash": "c7e9fc1399882022a3ca0471d3bf62a2f3d0314ad07e541dc026778e9ce3a903"
   }
  }
 },
 "nbformat": 4,
 "nbformat_minor": 2
}
