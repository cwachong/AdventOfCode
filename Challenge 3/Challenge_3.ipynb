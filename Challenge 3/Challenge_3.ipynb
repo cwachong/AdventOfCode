{
 "cells": [
  {
   "cell_type": "code",
   "execution_count": 297,
   "metadata": {},
   "outputs": [],
   "source": [
    "import csv"
   ]
  },
  {
   "cell_type": "code",
   "execution_count": 298,
   "metadata": {},
   "outputs": [],
   "source": [
    "with open('Input.csv', newline='\\n') as f:\n",
    "    reader = csv.reader(f)\n",
    "    data = []\n",
    "    for row in reader:\n",
    "            data.append(row)"
   ]
  },
  {
   "cell_type": "code",
   "execution_count": 299,
   "metadata": {},
   "outputs": [
    {
     "name": "stdout",
     "output_type": "stream",
     "text": [
      "97\n",
      "65\n"
     ]
    }
   ],
   "source": [
    "print(ord('a'))\n",
    "print(ord('A'))"
   ]
  },
  {
   "cell_type": "code",
   "execution_count": 300,
   "metadata": {},
   "outputs": [
    {
     "name": "stdout",
     "output_type": "stream",
     "text": [
      "WjmsdnddnmQPZPPJPL\n"
     ]
    }
   ],
   "source": [
    "lst = []\n",
    "\n",
    "for i in range(len(data)):\n",
    "    lst.append(data[i][0])\n",
    "\n",
    "print(lst[0])"
   ]
  },
  {
   "cell_type": "code",
   "execution_count": 301,
   "metadata": {},
   "outputs": [
    {
     "name": "stdout",
     "output_type": "stream",
     "text": [
      "Wjmsdnddn\n",
      "mQPZPPJPL\n",
      "bQllTtpBlgwtrbb\n",
      "CwfZcfSFPSfLCSF\n",
      "GgVgQrlpphBGrlVGgTt\n",
      "sRHRWVRMzRdVsqdnDnV\n"
     ]
    }
   ],
   "source": [
    "for i in range(3):\n",
    "    print(lst[i][:len(lst[i])//2])\n",
    "    print(lst[i][len(lst[i])//2:])"
   ]
  },
  {
   "cell_type": "code",
   "execution_count": 302,
   "metadata": {},
   "outputs": [],
   "source": [
    "#This block calculates what is the letter in common and adds it to a list\n",
    "CommonLetters = []\n",
    "for i in range(len(data)):\n",
    "    Half1 = lst[i][:len(lst[i])//2]\n",
    "    Half2 = lst[i][len(lst[i])//2:]\n",
    "    for char in Half1:\n",
    "       index = Half2.find(char)\n",
    "       if index != -1:\n",
    "        break\n",
    "    #print(Half2[index])\n",
    "    CommonLetters.append(Half2[index])\n",
    "    "
   ]
  },
  {
   "cell_type": "code",
   "execution_count": 303,
   "metadata": {},
   "outputs": [
    {
     "name": "stdout",
     "output_type": "stream",
     "text": [
      "300\n",
      "7568\n"
     ]
    }
   ],
   "source": [
    "vals = []\n",
    "print(len(CommonLetters))\n",
    "for letter in CommonLetters:\n",
    "    if letter.isupper():\n",
    "        vals.append(ord(letter)-38)\n",
    "    else:\n",
    "        vals.append(ord(letter)-96)\n",
    "\n",
    "#This is the final value for part 1\n",
    "print(sum(vals))\n"
   ]
  },
  {
   "cell_type": "code",
   "execution_count": 304,
   "metadata": {},
   "outputs": [
    {
     "name": "stdout",
     "output_type": "stream",
     "text": [
      "2780\n"
     ]
    }
   ],
   "source": [
    "# Part 2\n",
    "p = 0\n",
    "numberGroups = len(lst) / 3 # get number of groups\n",
    "groups = [[elf for elf in lst[(i-1)*3:i*3]] for i in range(1, int(numberGroups)+1)] # split puzzle input into groups of 3\n",
    " \n",
    "for group in groups: # loop through each group\n",
    "    usedLetters = [] # make sure that no double letters are used\n",
    "    for letter in group[0]: # loop through each letter in first elf's list\n",
    "        if letter in group[1] and letter in group[2] and letter not in usedLetters: # if letter is in all 3 lists\n",
    "            usedLetters.append(letter) # add letter to usedLetters so it doesn't get counted twice\n",
    "            p += ord(letter) - 38 if letter.isupper() else ord(letter) - 96 # add priority to p2\n",
    " \n",
    "print(p) # print part 2 answer"
   ]
  }
 ],
 "metadata": {
  "kernelspec": {
   "display_name": "Python 3",
   "language": "python",
   "name": "python3"
  },
  "language_info": {
   "codemirror_mode": {
    "name": "ipython",
    "version": 3
   },
   "file_extension": ".py",
   "mimetype": "text/x-python",
   "name": "python",
   "nbconvert_exporter": "python",
   "pygments_lexer": "ipython3",
   "version": "3.11.1"
  },
  "orig_nbformat": 4,
  "vscode": {
   "interpreter": {
    "hash": "c7e9fc1399882022a3ca0471d3bf62a2f3d0314ad07e541dc026778e9ce3a903"
   }
  }
 },
 "nbformat": 4,
 "nbformat_minor": 2
}
