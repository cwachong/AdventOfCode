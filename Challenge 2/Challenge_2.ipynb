{
 "cells": [
  {
   "cell_type": "code",
   "execution_count": 22,
   "metadata": {},
   "outputs": [],
   "source": [
    "import csv"
   ]
  },
  {
   "cell_type": "code",
   "execution_count": 23,
   "metadata": {},
   "outputs": [],
   "source": [
    "with open('Input.csv', newline='\\n') as f:\n",
    "    reader = csv.reader(f)\n",
    "    data = []\n",
    "    for row in reader:\n",
    "            data.append(row)"
   ]
  },
  {
   "cell_type": "code",
   "execution_count": 24,
   "metadata": {},
   "outputs": [
    {
     "name": "stdout",
     "output_type": "stream",
     "text": [
      "9541\n"
     ]
    }
   ],
   "source": [
    "lst = []\n",
    "for i in range(len(data)):\n",
    "    point = 0\n",
    "    if data[i][1] == 'X':\n",
    "        point += 0\n",
    "        if data[i][0] == 'A':\n",
    "            point += 3\n",
    "        if data[i][0] == 'B':\n",
    "            point += 1\n",
    "        if data[i][0] == 'C':\n",
    "            point += 2\n",
    "\n",
    "    elif data[i][1] == 'Y':\n",
    "        point += 3\n",
    "        if data[i][0] == 'A':\n",
    "            point += 1\n",
    "        if data[i][0] == 'B':\n",
    "            point += 2\n",
    "        if data[i][0] == 'C':\n",
    "            point += 3\n",
    "\n",
    "    elif data[i][1] == 'Z':\n",
    "        point += 6\n",
    "        if data[i][0] == 'A':\n",
    "            point += 2\n",
    "        if data[i][0] == 'B':\n",
    "            point += 3\n",
    "        if data[i][0] == 'C':\n",
    "            point += 1\n",
    "\n",
    "    lst.append(point)\n",
    "print(sum(lst))\n"
   ]
  }
 ],
 "metadata": {
  "kernelspec": {
   "display_name": "Python 3",
   "language": "python",
   "name": "python3"
  },
  "language_info": {
   "codemirror_mode": {
    "name": "ipython",
    "version": 3
   },
   "file_extension": ".py",
   "mimetype": "text/x-python",
   "name": "python",
   "nbconvert_exporter": "python",
   "pygments_lexer": "ipython3",
   "version": "3.11.1"
  },
  "orig_nbformat": 4,
  "vscode": {
   "interpreter": {
    "hash": "c7e9fc1399882022a3ca0471d3bf62a2f3d0314ad07e541dc026778e9ce3a903"
   }
  }
 },
 "nbformat": 4,
 "nbformat_minor": 2
}
